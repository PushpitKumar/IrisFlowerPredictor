{
 "cells": [
  {
   "cell_type": "markdown",
   "id": "2c621ba5",
   "metadata": {},
   "source": [
    "# Machine Learning with the Famous Iris Dataset\n",
    "Yes, I know this dataset has been analysed in its entirety over the years but as someone who is new to ML, everyone should get familiar with this dataset. Also, I wanted to create a simple web-app using flask to predict the iris species as a beginner's project. This dataset is particularly handy for newbies because there are very few features present. It is good to explore and play with the data using pandas. It is also good for learning basic visualization techniques such as barplots, histograms, boxplots and many more using matplotlib and seaborn.\n",
    "\n",
    "![alt text](data:image/jpeg;base64,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)\n",
    "\n",
    "\n",
    "## Who should read this notebook?\n",
    "* If you are new to ML and want to understand the fundamentals of EDA, model building and deployment, then you have come to the right place\n",
    "* Since this is a very basic dataset, I cannot cover every single topic such as feature engineering, feature selection, handling missing values, outlier analyis, encoding techniques, etc.\n",
    "\n",
    "\n",
    "## Overview\n",
    "The Iris dataset was used in **R.A. Fisher's** classic 1936 paper, *'The Use of Multiple Measurements in Taxonomic Problems'*, and can also be found on the UCI Machine Learning Repository. It is sometimes called **Anderson's** Iris data set because Edgar Anderson collected the data to quantify the morphologic variation of Iris flowers of three related species.\n",
    "\n",
    "It includes three iris species with 50 samples each as well as some properties about each flower. One flower species is linearly separable from the other two, but the other two are not linearly separable from each other.\n",
    "\n",
    "The columns in this dataset are:\n",
    "* Id\n",
    "* SepalLength (Cm)\n",
    "* SepalWidth (Cm)\n",
    "* PetalLength (Cm)\n",
    "* PetalWidth (Cm)\n",
    "* Species\n",
    "\n",
    "**Goal:** We have to classify the iris flower based on the features present in the dataset. Since this is a classification problem we will use some popular ML algorithms such as Logistic Regression, KNN, SVM and Decision Tree.\n",
    "\n",
    "\n",
    "## Table of Contents\n",
    "* Import Basic Libraries and Dataet\n",
    "* Data Cleaning and EDA  \n",
    "  * Data Preprocessing\n",
    "  * Missing Values\n",
    "  * Numerical Features\n",
    "  * Categorical Features\n",
    "  * Univariate Analysis\n",
    "  * Bivariate Analysis\n",
    "* Model Building Using all the Features\n",
    "* Model Building Using Petal Features\n",
    "* Model Building Using Sepal Features\n",
    "* Pickle File\n",
    " \n"
   ]
  },
  {
   "cell_type": "markdown",
   "id": "73083593",
   "metadata": {},
   "source": [
    "## 1. Import Basic Libraries and Dataset"
   ]
  },
  {
   "cell_type": "code",
   "execution_count": 1,
   "id": "697d0084",
   "metadata": {},
   "outputs": [],
   "source": [
    "import pandas as pd\n",
    "import numpy as np\n",
    "import matplotlib.pyplot as plt\n",
    "import seaborn as sns"
   ]
  },
  {
   "cell_type": "code",
   "execution_count": 2,
   "id": "30084b09",
   "metadata": {},
   "outputs": [
    {
     "data": {
      "text/html": [
       "<div>\n",
       "<style scoped>\n",
       "    .dataframe tbody tr th:only-of-type {\n",
       "        vertical-align: middle;\n",
       "    }\n",
       "\n",
       "    .dataframe tbody tr th {\n",
       "        vertical-align: top;\n",
       "    }\n",
       "\n",
       "    .dataframe thead th {\n",
       "        text-align: right;\n",
       "    }\n",
       "</style>\n",
       "<table border=\"1\" class=\"dataframe\">\n",
       "  <thead>\n",
       "    <tr style=\"text-align: right;\">\n",
       "      <th></th>\n",
       "      <th>Id</th>\n",
       "      <th>SepalLengthCm</th>\n",
       "      <th>SepalWidthCm</th>\n",
       "      <th>PetalLengthCm</th>\n",
       "      <th>PetalWidthCm</th>\n",
       "      <th>Species</th>\n",
       "    </tr>\n",
       "  </thead>\n",
       "  <tbody>\n",
       "    <tr>\n",
       "      <th>0</th>\n",
       "      <td>1</td>\n",
       "      <td>5.1</td>\n",
       "      <td>3.5</td>\n",
       "      <td>1.4</td>\n",
       "      <td>0.2</td>\n",
       "      <td>Iris-setosa</td>\n",
       "    </tr>\n",
       "    <tr>\n",
       "      <th>1</th>\n",
       "      <td>2</td>\n",
       "      <td>4.9</td>\n",
       "      <td>3.0</td>\n",
       "      <td>1.4</td>\n",
       "      <td>0.2</td>\n",
       "      <td>Iris-setosa</td>\n",
       "    </tr>\n",
       "    <tr>\n",
       "      <th>2</th>\n",
       "      <td>3</td>\n",
       "      <td>4.7</td>\n",
       "      <td>3.2</td>\n",
       "      <td>1.3</td>\n",
       "      <td>0.2</td>\n",
       "      <td>Iris-setosa</td>\n",
       "    </tr>\n",
       "    <tr>\n",
       "      <th>3</th>\n",
       "      <td>4</td>\n",
       "      <td>4.6</td>\n",
       "      <td>3.1</td>\n",
       "      <td>1.5</td>\n",
       "      <td>0.2</td>\n",
       "      <td>Iris-setosa</td>\n",
       "    </tr>\n",
       "    <tr>\n",
       "      <th>4</th>\n",
       "      <td>5</td>\n",
       "      <td>5.0</td>\n",
       "      <td>3.6</td>\n",
       "      <td>1.4</td>\n",
       "      <td>0.2</td>\n",
       "      <td>Iris-setosa</td>\n",
       "    </tr>\n",
       "  </tbody>\n",
       "</table>\n",
       "</div>"
      ],
      "text/plain": [
       "   Id  SepalLengthCm  SepalWidthCm  PetalLengthCm  PetalWidthCm      Species\n",
       "0   1            5.1           3.5            1.4           0.2  Iris-setosa\n",
       "1   2            4.9           3.0            1.4           0.2  Iris-setosa\n",
       "2   3            4.7           3.2            1.3           0.2  Iris-setosa\n",
       "3   4            4.6           3.1            1.5           0.2  Iris-setosa\n",
       "4   5            5.0           3.6            1.4           0.2  Iris-setosa"
      ]
     },
     "execution_count": 2,
     "metadata": {},
     "output_type": "execute_result"
    }
   ],
   "source": [
    "#Read the dataset into a dataframe\n",
    "df = pd.read_csv('Iris.csv')\n",
    "df.head()"
   ]
  },
  {
   "cell_type": "markdown",
   "id": "b0fd21af",
   "metadata": {},
   "source": [
    "## 2. Data Cleaning and EDA"
   ]
  },
  {
   "cell_type": "markdown",
   "id": "98d36ca4",
   "metadata": {},
   "source": [
    "### 2.1 Data Preprocessing"
   ]
  },
  {
   "cell_type": "code",
   "execution_count": 3,
   "id": "397c899d",
   "metadata": {},
   "outputs": [
    {
     "name": "stdout",
     "output_type": "stream",
     "text": [
      "<class 'pandas.core.frame.DataFrame'>\n",
      "RangeIndex: 150 entries, 0 to 149\n",
      "Data columns (total 6 columns):\n",
      " #   Column         Non-Null Count  Dtype  \n",
      "---  ------         --------------  -----  \n",
      " 0   Id             150 non-null    int64  \n",
      " 1   SepalLengthCm  150 non-null    float64\n",
      " 2   SepalWidthCm   150 non-null    float64\n",
      " 3   PetalLengthCm  150 non-null    float64\n",
      " 4   PetalWidthCm   150 non-null    float64\n",
      " 5   Species        150 non-null    object \n",
      "dtypes: float64(4), int64(1), object(1)\n",
      "memory usage: 7.2+ KB\n"
     ]
    }
   ],
   "source": [
    "df.info()"
   ]
  },
  {
   "cell_type": "code",
   "execution_count": 4,
   "id": "239e89ab",
   "metadata": {},
   "outputs": [
    {
     "data": {
      "text/html": [
       "<div>\n",
       "<style scoped>\n",
       "    .dataframe tbody tr th:only-of-type {\n",
       "        vertical-align: middle;\n",
       "    }\n",
       "\n",
       "    .dataframe tbody tr th {\n",
       "        vertical-align: top;\n",
       "    }\n",
       "\n",
       "    .dataframe thead th {\n",
       "        text-align: right;\n",
       "    }\n",
       "</style>\n",
       "<table border=\"1\" class=\"dataframe\">\n",
       "  <thead>\n",
       "    <tr style=\"text-align: right;\">\n",
       "      <th></th>\n",
       "      <th>Id</th>\n",
       "      <th>SepalLengthCm</th>\n",
       "      <th>SepalWidthCm</th>\n",
       "      <th>PetalLengthCm</th>\n",
       "      <th>PetalWidthCm</th>\n",
       "      <th>Species</th>\n",
       "    </tr>\n",
       "  </thead>\n",
       "  <tbody>\n",
       "    <tr>\n",
       "      <th>count</th>\n",
       "      <td>150.000000</td>\n",
       "      <td>150.000000</td>\n",
       "      <td>150.000000</td>\n",
       "      <td>150.000000</td>\n",
       "      <td>150.000000</td>\n",
       "      <td>150</td>\n",
       "    </tr>\n",
       "    <tr>\n",
       "      <th>unique</th>\n",
       "      <td>NaN</td>\n",
       "      <td>NaN</td>\n",
       "      <td>NaN</td>\n",
       "      <td>NaN</td>\n",
       "      <td>NaN</td>\n",
       "      <td>3</td>\n",
       "    </tr>\n",
       "    <tr>\n",
       "      <th>top</th>\n",
       "      <td>NaN</td>\n",
       "      <td>NaN</td>\n",
       "      <td>NaN</td>\n",
       "      <td>NaN</td>\n",
       "      <td>NaN</td>\n",
       "      <td>Iris-versicolor</td>\n",
       "    </tr>\n",
       "    <tr>\n",
       "      <th>freq</th>\n",
       "      <td>NaN</td>\n",
       "      <td>NaN</td>\n",
       "      <td>NaN</td>\n",
       "      <td>NaN</td>\n",
       "      <td>NaN</td>\n",
       "      <td>50</td>\n",
       "    </tr>\n",
       "    <tr>\n",
       "      <th>mean</th>\n",
       "      <td>75.500000</td>\n",
       "      <td>5.843333</td>\n",
       "      <td>3.054000</td>\n",
       "      <td>3.758667</td>\n",
       "      <td>1.198667</td>\n",
       "      <td>NaN</td>\n",
       "    </tr>\n",
       "    <tr>\n",
       "      <th>std</th>\n",
       "      <td>43.445368</td>\n",
       "      <td>0.828066</td>\n",
       "      <td>0.433594</td>\n",
       "      <td>1.764420</td>\n",
       "      <td>0.763161</td>\n",
       "      <td>NaN</td>\n",
       "    </tr>\n",
       "    <tr>\n",
       "      <th>min</th>\n",
       "      <td>1.000000</td>\n",
       "      <td>4.300000</td>\n",
       "      <td>2.000000</td>\n",
       "      <td>1.000000</td>\n",
       "      <td>0.100000</td>\n",
       "      <td>NaN</td>\n",
       "    </tr>\n",
       "    <tr>\n",
       "      <th>25%</th>\n",
       "      <td>38.250000</td>\n",
       "      <td>5.100000</td>\n",
       "      <td>2.800000</td>\n",
       "      <td>1.600000</td>\n",
       "      <td>0.300000</td>\n",
       "      <td>NaN</td>\n",
       "    </tr>\n",
       "    <tr>\n",
       "      <th>50%</th>\n",
       "      <td>75.500000</td>\n",
       "      <td>5.800000</td>\n",
       "      <td>3.000000</td>\n",
       "      <td>4.350000</td>\n",
       "      <td>1.300000</td>\n",
       "      <td>NaN</td>\n",
       "    </tr>\n",
       "    <tr>\n",
       "      <th>75%</th>\n",
       "      <td>112.750000</td>\n",
       "      <td>6.400000</td>\n",
       "      <td>3.300000</td>\n",
       "      <td>5.100000</td>\n",
       "      <td>1.800000</td>\n",
       "      <td>NaN</td>\n",
       "    </tr>\n",
       "    <tr>\n",
       "      <th>max</th>\n",
       "      <td>150.000000</td>\n",
       "      <td>7.900000</td>\n",
       "      <td>4.400000</td>\n",
       "      <td>6.900000</td>\n",
       "      <td>2.500000</td>\n",
       "      <td>NaN</td>\n",
       "    </tr>\n",
       "  </tbody>\n",
       "</table>\n",
       "</div>"
      ],
      "text/plain": [
       "                Id  SepalLengthCm  SepalWidthCm  PetalLengthCm  PetalWidthCm  \\\n",
       "count   150.000000     150.000000    150.000000     150.000000    150.000000   \n",
       "unique         NaN            NaN           NaN            NaN           NaN   \n",
       "top            NaN            NaN           NaN            NaN           NaN   \n",
       "freq           NaN            NaN           NaN            NaN           NaN   \n",
       "mean     75.500000       5.843333      3.054000       3.758667      1.198667   \n",
       "std      43.445368       0.828066      0.433594       1.764420      0.763161   \n",
       "min       1.000000       4.300000      2.000000       1.000000      0.100000   \n",
       "25%      38.250000       5.100000      2.800000       1.600000      0.300000   \n",
       "50%      75.500000       5.800000      3.000000       4.350000      1.300000   \n",
       "75%     112.750000       6.400000      3.300000       5.100000      1.800000   \n",
       "max     150.000000       7.900000      4.400000       6.900000      2.500000   \n",
       "\n",
       "                Species  \n",
       "count               150  \n",
       "unique                3  \n",
       "top     Iris-versicolor  \n",
       "freq                 50  \n",
       "mean                NaN  \n",
       "std                 NaN  \n",
       "min                 NaN  \n",
       "25%                 NaN  \n",
       "50%                 NaN  \n",
       "75%                 NaN  \n",
       "max                 NaN  "
      ]
     },
     "execution_count": 4,
     "metadata": {},
     "output_type": "execute_result"
    }
   ],
   "source": [
    "df.describe(include='all')"
   ]
  },
  {
   "cell_type": "code",
   "execution_count": 5,
   "id": "d4f4f63d",
   "metadata": {},
   "outputs": [
    {
     "data": {
      "text/plain": [
       "(150, 6)"
      ]
     },
     "execution_count": 5,
     "metadata": {},
     "output_type": "execute_result"
    }
   ],
   "source": [
    "df.shape"
   ]
  },
  {
   "cell_type": "code",
   "execution_count": 6,
   "id": "7c4909fc",
   "metadata": {},
   "outputs": [],
   "source": [
    "#We'll drop the Id column since it doesn't give any information\n",
    "df.drop('Id',axis=1,inplace=True)"
   ]
  },
  {
   "cell_type": "markdown",
   "id": "f2b2ba6e",
   "metadata": {},
   "source": [
    "### 2.2 Missing Values"
   ]
  },
  {
   "cell_type": "code",
   "execution_count": 7,
   "id": "dfb2b94d",
   "metadata": {},
   "outputs": [
    {
     "data": {
      "text/plain": [
       "SepalLengthCm    0\n",
       "SepalWidthCm     0\n",
       "PetalLengthCm    0\n",
       "PetalWidthCm     0\n",
       "Species          0\n",
       "dtype: int64"
      ]
     },
     "execution_count": 7,
     "metadata": {},
     "output_type": "execute_result"
    }
   ],
   "source": [
    "df.isnull().sum()"
   ]
  },
  {
   "cell_type": "markdown",
   "id": "6b53da67",
   "metadata": {},
   "source": [
    "**Since there are no missing values, we can move towards exploring the data.**"
   ]
  },
  {
   "cell_type": "markdown",
   "id": "11db8439",
   "metadata": {},
   "source": [
    "### 2.3 Numerical Features"
   ]
  },
  {
   "cell_type": "code",
   "execution_count": 8,
   "id": "2c98888c",
   "metadata": {},
   "outputs": [
    {
     "name": "stderr",
     "output_type": "stream",
     "text": [
      "c:\\users\\mahe\\anaconda3\\envs\\irisflower\\lib\\site-packages\\seaborn\\distributions.py:2557: FutureWarning: `distplot` is a deprecated function and will be removed in a future version. Please adapt your code to use either `displot` (a figure-level function with similar flexibility) or `histplot` (an axes-level function for histograms).\n",
      "  warnings.warn(msg, FutureWarning)\n",
      "c:\\users\\mahe\\anaconda3\\envs\\irisflower\\lib\\site-packages\\seaborn\\distributions.py:2557: FutureWarning: `distplot` is a deprecated function and will be removed in a future version. Please adapt your code to use either `displot` (a figure-level function with similar flexibility) or `histplot` (an axes-level function for histograms).\n",
      "  warnings.warn(msg, FutureWarning)\n",
      "c:\\users\\mahe\\anaconda3\\envs\\irisflower\\lib\\site-packages\\seaborn\\distributions.py:2557: FutureWarning: `distplot` is a deprecated function and will be removed in a future version. Please adapt your code to use either `displot` (a figure-level function with similar flexibility) or `histplot` (an axes-level function for histograms).\n",
      "  warnings.warn(msg, FutureWarning)\n",
      "c:\\users\\mahe\\anaconda3\\envs\\irisflower\\lib\\site-packages\\seaborn\\distributions.py:2557: FutureWarning: `distplot` is a deprecated function and will be removed in a future version. Please adapt your code to use either `displot` (a figure-level function with similar flexibility) or `histplot` (an axes-level function for histograms).\n",
      "  warnings.warn(msg, FutureWarning)\n"
     ]
    },
    {
     "data": {
      "text/plain": [
       "Text(0.5, 0, 'PetalWidthCm')"
      ]
     },
     "execution_count": 8,
     "metadata": {},
     "output_type": "execute_result"
    },
    {
     "data": {
      "image/png": "[encoded data removed]",
      "text/plain": [
       "<Figure size 1080x720 with 4 Axes>"
      ]
     },
     "metadata": {
      "needs_background": "light"
     },
     "output_type": "display_data"
    }
   ],
   "source": [
    "#So our independent features are all numerical, let's try to see their distributions.\n",
    "plt.figure(figsize=(15,10))\n",
    "plt.subplot(2,2,1)\n",
    "sns.distplot(df['SepalLengthCm'])\n",
    "plt.xlabel('SepalLengthCm')\n",
    "plt.subplot(2,2,2)\n",
    "sns.distplot(df['SepalWidthCm'])\n",
    "plt.xlabel('SepalWidthCm')\n",
    "plt.subplot(2,2,3)\n",
    "sns.distplot(df['PetalLengthCm'])\n",
    "plt.xlabel('PetalLengthCm')\n",
    "plt.subplot(2,2,4)\n",
    "sns.distplot(df['PetalWidthCm'])\n",
    "plt.xlabel('PetalWidthCm')"
   ]
  },
  {
   "cell_type": "markdown",
   "id": "2f3e51d8",
   "metadata": {},
   "source": [
    "**Observations**\n",
    "* We can see that SepalLength and SepalWidth are normally distributed.\n",
    "* PetalLength and PetalWidth have a somewhat skewed distribution"
   ]
  },
  {
   "cell_type": "code",
   "execution_count": 9,
   "id": "b8077c3e",
   "metadata": {},
   "outputs": [
    {
     "data": {
      "text/plain": [
       "Text(0, 0.5, 'Species')"
      ]
     },
     "execution_count": 9,
     "metadata": {},
     "output_type": "execute_result"
    },
    {
     "data": {
      "image/png": "[encoded data removed]",
      "text/plain": [
       "<Figure size 1080x720 with 4 Axes>"
      ]
     },
     "metadata": {
      "needs_background": "light"
     },
     "output_type": "display_data"
    }
   ],
   "source": [
    "#Now let us look at scatterplots with respect to target variable.\n",
    "plt.figure(figsize=(15,10))\n",
    "plt.subplot(2,2,1)\n",
    "plt.scatter(df['SepalLengthCm'],df['Species'])\n",
    "plt.xlabel('SepalLengthCm')\n",
    "plt.ylabel('Species')\n",
    "plt.subplot(2,2,2)\n",
    "plt.scatter(df['SepalWidthCm'],df['Species'])\n",
    "plt.xlabel('SepalWidthCm')\n",
    "plt.ylabel('Species')\n",
    "plt.subplot(2,2,3)\n",
    "plt.scatter(df['PetalLengthCm'],df['Species'])\n",
    "plt.xlabel('PetalLengthCm')\n",
    "plt.ylabel('Species')\n",
    "plt.subplot(2,2,4)\n",
    "plt.scatter(df['PetalWidthCm'],df['Species'])\n",
    "plt.xlabel('PetalWidthCm')\n",
    "plt.ylabel('Species')"
   ]
  },
  {
   "cell_type": "markdown",
   "id": "8c6ad1fa",
   "metadata": {},
   "source": [
    "**Observation**\n",
    "* As per SepalLength and SepalWidth the flowers are not easily distinguished. The datapoints overlap.\n",
    "* As per PetalLength and PetalWidth, setosa has the smallest values. It is difficult to distinguish versicolor and virginica since points seem to overlap."
   ]
  },
  {
   "cell_type": "code",
   "execution_count": 10,
   "id": "a7dafdc3",
   "metadata": {},
   "outputs": [
    {
     "data": {
      "text/plain": [
       "<AxesSubplot:>"
      ]
     },
     "execution_count": 10,
     "metadata": {},
     "output_type": "execute_result"
    },
    {
     "data": {
      "image/png": "[encoded data removed]",
      "text/plain": [
       "<Figure size 432x288 with 2 Axes>"
      ]
     },
     "metadata": {
      "needs_background": "light"
     },
     "output_type": "display_data"
    }
   ],
   "source": [
    "#Let's see the correlation among the features using a heatmap\n",
    "corr_matrix = df.corr()\n",
    "sns.heatmap(corr_matrix,annot=True,cmap='YlGnBu')"
   ]
  },
  {
   "cell_type": "markdown",
   "id": "4c0043de",
   "metadata": {},
   "source": [
    "**Observations**\n",
    "* PetalLength and PetalWidth are highly correlated\n",
    "* SepalLength and PetalLength are also highly correlated\n",
    "* So we will try to use all features to train the model and then one feature from petal and sepal each to train the model in order to avoid multicollinearity scenario."
   ]
  },
  {
   "cell_type": "markdown",
   "id": "42e5ccfb",
   "metadata": {},
   "source": [
    "### 2.4 Categorical Features"
   ]
  },
  {
   "cell_type": "code",
   "execution_count": 11,
   "id": "1c47b35f",
   "metadata": {},
   "outputs": [
    {
     "data": {
      "text/plain": [
       "Iris-versicolor    50\n",
       "Iris-setosa        50\n",
       "Iris-virginica     50\n",
       "Name: Species, dtype: int64"
      ]
     },
     "execution_count": 11,
     "metadata": {},
     "output_type": "execute_result"
    }
   ],
   "source": [
    "#We only have one categorical feature that is our target variable\n",
    "df['Species'].value_counts()"
   ]
  },
  {
   "cell_type": "code",
   "execution_count": 12,
   "id": "d3d453d6",
   "metadata": {},
   "outputs": [
    {
     "data": {
      "text/plain": [
       "<AxesSubplot:xlabel='Species', ylabel='PetalWidthCm'>"
      ]
     },
     "execution_count": 12,
     "metadata": {},
     "output_type": "execute_result"
    },
    {
     "data": {
      "image/png": "[encoded data removed]",
      "text/plain": [
       "<Figure size 1080x720 with 4 Axes>"
      ]
     },
     "metadata": {
      "needs_background": "light"
     },
     "output_type": "display_data"
    }
   ],
   "source": [
    "#Let's try to visualize our target variable using boxplots\n",
    "plt.figure(figsize=(15,10))\n",
    "plt.subplot(2,2,1)\n",
    "sns.boxplot(x='Species',y='SepalLengthCm',data=df)\n",
    "plt.subplot(2,2,2)\n",
    "sns.boxplot(x='Species',y='SepalWidthCm',data=df)\n",
    "plt.subplot(2,2,3)\n",
    "sns.boxplot(x='Species',y='PetalLengthCm',data=df)\n",
    "plt.subplot(2,2,4)\n",
    "sns.boxplot(x='Species',y='PetalWidthCm',data=df)"
   ]
  },
  {
   "cell_type": "markdown",
   "id": "41d6b92a",
   "metadata": {},
   "source": [
    "**Observations**\n",
    "* On average Virginca has the highest SepalLength, PetalLength and PetalWidth\n",
    "* On average Setosa has the highest SepalWidth"
   ]
  },
  {
   "cell_type": "markdown",
   "id": "962bd94f",
   "metadata": {},
   "source": [
    "### 2.5 Univariate Analysis"
   ]
  },
  {
   "cell_type": "code",
   "execution_count": 13,
   "id": "147a045a",
   "metadata": {},
   "outputs": [],
   "source": [
    "df_setosa = df.loc[df['Species']=='Iris-setosa']\n",
    "df_versicolor = df.loc[df['Species']=='Iris-versicolor']\n",
    "df_virginica = df.loc[df['Species']=='Iris-virginica']"
   ]
  },
  {
   "cell_type": "code",
   "execution_count": 14,
   "id": "6c9cf592",
   "metadata": {},
   "outputs": [
    {
     "data": {
      "text/plain": [
       "<matplotlib.legend.Legend at 0x1edfaa9fdc0>"
      ]
     },
     "execution_count": 14,
     "metadata": {},
     "output_type": "execute_result"
    },
    {
     "data": {
      "image/png": "[encoded data removed]",
      "text/plain": [
       "<Figure size 1080x720 with 4 Axes>"
      ]
     },
     "metadata": {
      "needs_background": "light"
     },
     "output_type": "display_data"
    }
   ],
   "source": [
    "#We are setting the scale to zero\n",
    "plt.figure(figsize=(15,10))\n",
    "plt.subplot(2,2,1)\n",
    "plt.plot(df_setosa['SepalLengthCm'],np.zeros_like(df_setosa['SepalLengthCm']),'o')\n",
    "plt.plot(df_versicolor['SepalLengthCm'],np.zeros_like(df_versicolor['SepalLengthCm']),'o')\n",
    "plt.plot(df_virginica['SepalLengthCm'],np.zeros_like(df_virginica['SepalLengthCm']),'o')\n",
    "plt.xlabel('SepalLengthCm')\n",
    "plt.legend(['setosa','versicolor','virginica'])\n",
    "plt.subplot(2,2,2)\n",
    "plt.plot(df_setosa['SepalWidthCm'],np.zeros_like(df_setosa['SepalWidthCm']),'o')\n",
    "plt.plot(df_versicolor['SepalWidthCm'],np.zeros_like(df_versicolor['SepalWidthCm']),'o')\n",
    "plt.plot(df_virginica['SepalWidthCm'],np.zeros_like(df_virginica['SepalWidthCm']),'o')\n",
    "plt.xlabel('SepalWidthCm')\n",
    "plt.legend(['setosa','versicolor','virginica'])\n",
    "plt.subplot(2,2,3)\n",
    "plt.plot(df_setosa['PetalLengthCm'],np.zeros_like(df_setosa['PetalLengthCm']),'o')\n",
    "plt.plot(df_versicolor['PetalLengthCm'],np.zeros_like(df_versicolor['PetalLengthCm']),'o')\n",
    "plt.plot(df_virginica['PetalLengthCm'],np.zeros_like(df_virginica['PetalLengthCm']),'o')\n",
    "plt.xlabel('PetalLengthCm')\n",
    "plt.legend(['setosa','versicolor','virginica'])\n",
    "plt.subplot(2,2,4)\n",
    "plt.plot(df_setosa['PetalWidthCm'],np.zeros_like(df_setosa['PetalWidthCm']),'o')\n",
    "plt.plot(df_versicolor['PetalWidthCm'],np.zeros_like(df_versicolor['PetalWidthCm']),'o')\n",
    "plt.plot(df_virginica['PetalWidthCm'],np.zeros_like(df_virginica['PetalWidthCm']),'o')\n",
    "plt.xlabel('PeralWidthCm')\n",
    "plt.legend(['setosa','versicolor','virginica'])"
   ]
  },
  {
   "cell_type": "markdown",
   "id": "d9cf718f",
   "metadata": {},
   "source": [
    "### 2.6 Bivariate Analysis"
   ]
  },
  {
   "cell_type": "code",
   "execution_count": 15,
   "id": "ae812a2a",
   "metadata": {},
   "outputs": [
    {
     "name": "stderr",
     "output_type": "stream",
     "text": [
      "c:\\users\\mahe\\anaconda3\\envs\\irisflower\\lib\\site-packages\\seaborn\\axisgrid.py:316: UserWarning: The `size` parameter has been renamed to `height`; please update your code.\n",
      "  warnings.warn(msg, UserWarning)\n",
      "c:\\users\\mahe\\anaconda3\\envs\\irisflower\\lib\\site-packages\\seaborn\\axisgrid.py:316: UserWarning: The `size` parameter has been renamed to `height`; please update your code.\n",
      "  warnings.warn(msg, UserWarning)\n"
     ]
    },
    {
     "data": {
      "text/plain": [
       "<seaborn.axisgrid.FacetGrid at 0x1edfabdf9a0>"
      ]
     },
     "execution_count": 15,
     "metadata": {},
     "output_type": "execute_result"
    },
    {
     "data": {
      "image/png": "[encoded data removed]",
      "text/plain": [
       "<Figure size 463.25x360 with 1 Axes>"
      ]
     },
     "metadata": {
      "needs_background": "light"
     },
     "output_type": "display_data"
    },
    {
     "data": {
      "image/png": "[encoded data removed]",
      "text/plain": [
       "<Figure size 463.25x360 with 1 Axes>"
      ]
     },
     "metadata": {
      "needs_background": "light"
     },
     "output_type": "display_data"
    }
   ],
   "source": [
    "sns.FacetGrid(df,hue='Species',size=5).map(plt.scatter,'PetalLengthCm','PetalWidthCm').add_legend()\n",
    "sns.FacetGrid(df,hue='Species',size=5).map(plt.scatter,'SepalLengthCm','SepalWidthCm').add_legend()"
   ]
  },
  {
   "cell_type": "markdown",
   "id": "8a9584d7",
   "metadata": {},
   "source": [
    "**Observations**: We can see that Petal Characteristics are forming a more distinguished cluster compared to Sepal Characteristics. This indicates Petals are a better predictor for our classification problem."
   ]
  },
  {
   "cell_type": "markdown",
   "id": "7c022455",
   "metadata": {},
   "source": [
    "## 3. Model Building Using all the Features\n",
    "Since this is a classification problem, we'll implement some of the commonly used algorithms such as Logistic Regression, K-Nearest Neighbors, Support Vector Machine and Decision Tree"
   ]
  },
  {
   "cell_type": "code",
   "execution_count": 16,
   "id": "c4f702a0",
   "metadata": {},
   "outputs": [],
   "source": [
    "#Seperate dependent and independent features\n",
    "X = df.iloc[:,:-1]\n",
    "Y = df.iloc[:,-1]"
   ]
  },
  {
   "cell_type": "code",
   "execution_count": 17,
   "id": "11c8c7d6",
   "metadata": {},
   "outputs": [
    {
     "data": {
      "text/html": [
       "<div>\n",
       "<style scoped>\n",
       "    .dataframe tbody tr th:only-of-type {\n",
       "        vertical-align: middle;\n",
       "    }\n",
       "\n",
       "    .dataframe tbody tr th {\n",
       "        vertical-align: top;\n",
       "    }\n",
       "\n",
       "    .dataframe thead th {\n",
       "        text-align: right;\n",
       "    }\n",
       "</style>\n",
       "<table border=\"1\" class=\"dataframe\">\n",
       "  <thead>\n",
       "    <tr style=\"text-align: right;\">\n",
       "      <th></th>\n",
       "      <th>SepalLengthCm</th>\n",
       "      <th>SepalWidthCm</th>\n",
       "      <th>PetalLengthCm</th>\n",
       "      <th>PetalWidthCm</th>\n",
       "    </tr>\n",
       "  </thead>\n",
       "  <tbody>\n",
       "    <tr>\n",
       "      <th>0</th>\n",
       "      <td>5.1</td>\n",
       "      <td>3.5</td>\n",
       "      <td>1.4</td>\n",
       "      <td>0.2</td>\n",
       "    </tr>\n",
       "    <tr>\n",
       "      <th>1</th>\n",
       "      <td>4.9</td>\n",
       "      <td>3.0</td>\n",
       "      <td>1.4</td>\n",
       "      <td>0.2</td>\n",
       "    </tr>\n",
       "    <tr>\n",
       "      <th>2</th>\n",
       "      <td>4.7</td>\n",
       "      <td>3.2</td>\n",
       "      <td>1.3</td>\n",
       "      <td>0.2</td>\n",
       "    </tr>\n",
       "    <tr>\n",
       "      <th>3</th>\n",
       "      <td>4.6</td>\n",
       "      <td>3.1</td>\n",
       "      <td>1.5</td>\n",
       "      <td>0.2</td>\n",
       "    </tr>\n",
       "    <tr>\n",
       "      <th>4</th>\n",
       "      <td>5.0</td>\n",
       "      <td>3.6</td>\n",
       "      <td>1.4</td>\n",
       "      <td>0.2</td>\n",
       "    </tr>\n",
       "  </tbody>\n",
       "</table>\n",
       "</div>"
      ],
      "text/plain": [
       "   SepalLengthCm  SepalWidthCm  PetalLengthCm  PetalWidthCm\n",
       "0            5.1           3.5            1.4           0.2\n",
       "1            4.9           3.0            1.4           0.2\n",
       "2            4.7           3.2            1.3           0.2\n",
       "3            4.6           3.1            1.5           0.2\n",
       "4            5.0           3.6            1.4           0.2"
      ]
     },
     "execution_count": 17,
     "metadata": {},
     "output_type": "execute_result"
    }
   ],
   "source": [
    "X.head()"
   ]
  },
  {
   "cell_type": "code",
   "execution_count": 18,
   "id": "8cae8b71",
   "metadata": {},
   "outputs": [
    {
     "data": {
      "text/plain": [
       "0    Iris-setosa\n",
       "1    Iris-setosa\n",
       "2    Iris-setosa\n",
       "3    Iris-setosa\n",
       "4    Iris-setosa\n",
       "Name: Species, dtype: object"
      ]
     },
     "execution_count": 18,
     "metadata": {},
     "output_type": "execute_result"
    }
   ],
   "source": [
    "Y.head()"
   ]
  },
  {
   "cell_type": "code",
   "execution_count": 19,
   "id": "ab57e7cd",
   "metadata": {},
   "outputs": [
    {
     "name": "stdout",
     "output_type": "stream",
     "text": [
      "(105, 4)\n",
      "(45, 4)\n",
      "(105,)\n",
      "(45,)\n"
     ]
    }
   ],
   "source": [
    "#Split the data into training and testing dataset using train_test_split\n",
    "from sklearn.model_selection import train_test_split\n",
    "X_train,X_test,y_train,y_test = train_test_split(X,Y,test_size=0.3)\n",
    "print(X_train.shape)\n",
    "print(X_test.shape)\n",
    "print(y_train.shape)\n",
    "print(y_test.shape)"
   ]
  },
  {
   "cell_type": "code",
   "execution_count": 20,
   "id": "f2d3ed77",
   "metadata": {},
   "outputs": [
    {
     "data": {
      "text/html": [
       "<div>\n",
       "<style scoped>\n",
       "    .dataframe tbody tr th:only-of-type {\n",
       "        vertical-align: middle;\n",
       "    }\n",
       "\n",
       "    .dataframe tbody tr th {\n",
       "        vertical-align: top;\n",
       "    }\n",
       "\n",
       "    .dataframe thead th {\n",
       "        text-align: right;\n",
       "    }\n",
       "</style>\n",
       "<table border=\"1\" class=\"dataframe\">\n",
       "  <thead>\n",
       "    <tr style=\"text-align: right;\">\n",
       "      <th></th>\n",
       "      <th>SepalLengthCm</th>\n",
       "      <th>SepalWidthCm</th>\n",
       "      <th>PetalLengthCm</th>\n",
       "      <th>PetalWidthCm</th>\n",
       "    </tr>\n",
       "  </thead>\n",
       "  <tbody>\n",
       "    <tr>\n",
       "      <th>121</th>\n",
       "      <td>5.6</td>\n",
       "      <td>2.8</td>\n",
       "      <td>4.9</td>\n",
       "      <td>2.0</td>\n",
       "    </tr>\n",
       "    <tr>\n",
       "      <th>62</th>\n",
       "      <td>6.0</td>\n",
       "      <td>2.2</td>\n",
       "      <td>4.0</td>\n",
       "      <td>1.0</td>\n",
       "    </tr>\n",
       "    <tr>\n",
       "      <th>148</th>\n",
       "      <td>6.2</td>\n",
       "      <td>3.4</td>\n",
       "      <td>5.4</td>\n",
       "      <td>2.3</td>\n",
       "    </tr>\n",
       "    <tr>\n",
       "      <th>86</th>\n",
       "      <td>6.7</td>\n",
       "      <td>3.1</td>\n",
       "      <td>4.7</td>\n",
       "      <td>1.5</td>\n",
       "    </tr>\n",
       "    <tr>\n",
       "      <th>99</th>\n",
       "      <td>5.7</td>\n",
       "      <td>2.8</td>\n",
       "      <td>4.1</td>\n",
       "      <td>1.3</td>\n",
       "    </tr>\n",
       "  </tbody>\n",
       "</table>\n",
       "</div>"
      ],
      "text/plain": [
       "     SepalLengthCm  SepalWidthCm  PetalLengthCm  PetalWidthCm\n",
       "121            5.6           2.8            4.9           2.0\n",
       "62             6.0           2.2            4.0           1.0\n",
       "148            6.2           3.4            5.4           2.3\n",
       "86             6.7           3.1            4.7           1.5\n",
       "99             5.7           2.8            4.1           1.3"
      ]
     },
     "execution_count": 20,
     "metadata": {},
     "output_type": "execute_result"
    }
   ],
   "source": [
    "X_train.head()"
   ]
  },
  {
   "cell_type": "code",
   "execution_count": 21,
   "id": "0a6338af",
   "metadata": {},
   "outputs": [
    {
     "data": {
      "text/html": [
       "<div>\n",
       "<style scoped>\n",
       "    .dataframe tbody tr th:only-of-type {\n",
       "        vertical-align: middle;\n",
       "    }\n",
       "\n",
       "    .dataframe tbody tr th {\n",
       "        vertical-align: top;\n",
       "    }\n",
       "\n",
       "    .dataframe thead th {\n",
       "        text-align: right;\n",
       "    }\n",
       "</style>\n",
       "<table border=\"1\" class=\"dataframe\">\n",
       "  <thead>\n",
       "    <tr style=\"text-align: right;\">\n",
       "      <th></th>\n",
       "      <th>SepalLengthCm</th>\n",
       "      <th>SepalWidthCm</th>\n",
       "      <th>PetalLengthCm</th>\n",
       "      <th>PetalWidthCm</th>\n",
       "    </tr>\n",
       "  </thead>\n",
       "  <tbody>\n",
       "    <tr>\n",
       "      <th>104</th>\n",
       "      <td>6.5</td>\n",
       "      <td>3.0</td>\n",
       "      <td>5.8</td>\n",
       "      <td>2.2</td>\n",
       "    </tr>\n",
       "    <tr>\n",
       "      <th>33</th>\n",
       "      <td>5.5</td>\n",
       "      <td>4.2</td>\n",
       "      <td>1.4</td>\n",
       "      <td>0.2</td>\n",
       "    </tr>\n",
       "    <tr>\n",
       "      <th>116</th>\n",
       "      <td>6.5</td>\n",
       "      <td>3.0</td>\n",
       "      <td>5.5</td>\n",
       "      <td>1.8</td>\n",
       "    </tr>\n",
       "    <tr>\n",
       "      <th>24</th>\n",
       "      <td>4.8</td>\n",
       "      <td>3.4</td>\n",
       "      <td>1.9</td>\n",
       "      <td>0.2</td>\n",
       "    </tr>\n",
       "    <tr>\n",
       "      <th>81</th>\n",
       "      <td>5.5</td>\n",
       "      <td>2.4</td>\n",
       "      <td>3.7</td>\n",
       "      <td>1.0</td>\n",
       "    </tr>\n",
       "  </tbody>\n",
       "</table>\n",
       "</div>"
      ],
      "text/plain": [
       "     SepalLengthCm  SepalWidthCm  PetalLengthCm  PetalWidthCm\n",
       "104            6.5           3.0            5.8           2.2\n",
       "33             5.5           4.2            1.4           0.2\n",
       "116            6.5           3.0            5.5           1.8\n",
       "24             4.8           3.4            1.9           0.2\n",
       "81             5.5           2.4            3.7           1.0"
      ]
     },
     "execution_count": 21,
     "metadata": {},
     "output_type": "execute_result"
    }
   ],
   "source": [
    "X_test.head()"
   ]
  },
  {
   "cell_type": "code",
   "execution_count": 22,
   "id": "045e0eaa",
   "metadata": {},
   "outputs": [
    {
     "data": {
      "text/plain": [
       "121     Iris-virginica\n",
       "62     Iris-versicolor\n",
       "148     Iris-virginica\n",
       "86     Iris-versicolor\n",
       "99     Iris-versicolor\n",
       "Name: Species, dtype: object"
      ]
     },
     "execution_count": 22,
     "metadata": {},
     "output_type": "execute_result"
    }
   ],
   "source": [
    "y_train.head()"
   ]
  },
  {
   "cell_type": "code",
   "execution_count": 23,
   "id": "aa697ca8",
   "metadata": {},
   "outputs": [
    {
     "data": {
      "text/plain": [
       "104     Iris-virginica\n",
       "33         Iris-setosa\n",
       "116     Iris-virginica\n",
       "24         Iris-setosa\n",
       "81     Iris-versicolor\n",
       "Name: Species, dtype: object"
      ]
     },
     "execution_count": 23,
     "metadata": {},
     "output_type": "execute_result"
    }
   ],
   "source": [
    "y_test.head()"
   ]
  },
  {
   "cell_type": "markdown",
   "id": "dc4d8980",
   "metadata": {},
   "source": [
    "### 3.1 Logistic Regression"
   ]
  },
  {
   "cell_type": "code",
   "execution_count": 24,
   "id": "9bf33915",
   "metadata": {},
   "outputs": [
    {
     "name": "stdout",
     "output_type": "stream",
     "text": [
      "Logistic Regression has an accuracy of: 93.33333333333333\n"
     ]
    },
    {
     "name": "stderr",
     "output_type": "stream",
     "text": [
      "c:\\users\\mahe\\anaconda3\\envs\\irisflower\\lib\\site-packages\\sklearn\\linear_model\\_logistic.py:763: ConvergenceWarning: lbfgs failed to converge (status=1):\n",
      "STOP: TOTAL NO. of ITERATIONS REACHED LIMIT.\n",
      "\n",
      "Increase the number of iterations (max_iter) or scale the data as shown in:\n",
      "    https://scikit-learn.org/stable/modules/preprocessing.html\n",
      "Please also refer to the documentation for alternative solver options:\n",
      "    https://scikit-learn.org/stable/modules/linear_model.html#logistic-regression\n",
      "  n_iter_i = _check_optimize_result(\n"
     ]
    }
   ],
   "source": [
    "from sklearn.linear_model import LogisticRegression\n",
    "from sklearn.metrics import accuracy_score\n",
    "logreg = LogisticRegression()\n",
    "logreg.fit(X_train,y_train)\n",
    "y_pred = logreg.predict(X_test)\n",
    "print('Logistic Regression has an accuracy of:',accuracy_score(y_test,y_pred)*100)"
   ]
  },
  {
   "cell_type": "markdown",
   "id": "f9f7d1e7",
   "metadata": {},
   "source": [
    "### 3.2 K-Nearest Neighbors (KNN)"
   ]
  },
  {
   "cell_type": "code",
   "execution_count": 25,
   "id": "553b400e",
   "metadata": {},
   "outputs": [
    {
     "name": "stdout",
     "output_type": "stream",
     "text": [
      "KNN with K=1 has an accuracy of: 95.55555555555556\n"
     ]
    }
   ],
   "source": [
    "#For K=1\n",
    "from sklearn.neighbors import KNeighborsClassifier\n",
    "knn = KNeighborsClassifier(n_neighbors=1)\n",
    "knn.fit(X_train,y_train)\n",
    "y_pred = knn.predict(X_test)\n",
    "print('KNN with K=1 has an accuracy of:',accuracy_score(y_test,y_pred)*100)"
   ]
  },
  {
   "cell_type": "code",
   "execution_count": 26,
   "id": "ef615e8c",
   "metadata": {},
   "outputs": [
    {
     "name": "stdout",
     "output_type": "stream",
     "text": [
      "KNN with K=3 has an accuracy of: 95.55555555555556\n"
     ]
    }
   ],
   "source": [
    "#For K=3\n",
    "from sklearn.neighbors import KNeighborsClassifier\n",
    "knn = KNeighborsClassifier(n_neighbors=3)\n",
    "knn.fit(X_train,y_train)\n",
    "y_pred = knn.predict(X_test)\n",
    "print('KNN with K=3 has an accuracy of:',accuracy_score(y_test,y_pred)*100)"
   ]
  },
  {
   "cell_type": "code",
   "execution_count": 27,
   "id": "a1430baf",
   "metadata": {},
   "outputs": [
    {
     "name": "stdout",
     "output_type": "stream",
     "text": [
      "KNN with K=5 has an accuracy of: 95.55555555555556\n"
     ]
    }
   ],
   "source": [
    "#For K=5\n",
    "from sklearn.neighbors import KNeighborsClassifier\n",
    "knn = KNeighborsClassifier(n_neighbors=5)\n",
    "knn.fit(X_train,y_train)\n",
    "y_pred = knn.predict(X_test)\n",
    "print('KNN with K=5 has an accuracy of:',accuracy_score(y_test,y_pred)*100)"
   ]
  },
  {
   "cell_type": "code",
   "execution_count": 28,
   "id": "6bbf78e0",
   "metadata": {},
   "outputs": [
    {
     "data": {
      "text/plain": [
       "Text(0, 0.5, 'Accuracy Score')"
      ]
     },
     "execution_count": 28,
     "metadata": {},
     "output_type": "execute_result"
    },
    {
     "data": {
      "image/png": "[encoded data removed]",
      "text/plain": [
       "<Figure size 720x432 with 1 Axes>"
      ]
     },
     "metadata": {
      "needs_background": "light"
     },
     "output_type": "display_data"
    }
   ],
   "source": [
    "#Let's try and select the best K-value\n",
    "acc_score = []\n",
    "\n",
    "for i in range(1,11):\n",
    "    knn = KNeighborsClassifier(n_neighbors=i)\n",
    "    knn.fit(X_train,y_train)\n",
    "    pred_i = knn.predict(X_test)\n",
    "    acc_score.append(np.mean(accuracy_score(y_test,pred_i)))\n",
    "\n",
    "plt.figure(figsize=(10,6))\n",
    "plt.plot(range(1,11),acc_score,color='blue',linestyle='dashed',marker='o',markersize=10)\n",
    "plt.title('Error Rate Vs K-value')\n",
    "plt.xlabel('K')\n",
    "plt.ylabel('Accuracy Score')"
   ]
  },
  {
   "cell_type": "markdown",
   "id": "6ae641fb",
   "metadata": {},
   "source": [
    "### 3.3 Support Vector Machine (SVM)"
   ]
  },
  {
   "cell_type": "code",
   "execution_count": 29,
   "id": "0865f971",
   "metadata": {},
   "outputs": [
    {
     "name": "stdout",
     "output_type": "stream",
     "text": [
      "SVM has an accuracy of: 93.33333333333333\n"
     ]
    }
   ],
   "source": [
    "from sklearn.svm import SVC\n",
    "model = SVC()\n",
    "model.fit(X_train,y_train)\n",
    "y_pred = model.predict(X_test)\n",
    "print('SVM has an accuracy of:',accuracy_score(y_test,y_pred)*100)"
   ]
  },
  {
   "cell_type": "markdown",
   "id": "029aef4f",
   "metadata": {},
   "source": [
    "### 3.4 Decision Tree"
   ]
  },
  {
   "cell_type": "code",
   "execution_count": 30,
   "id": "96700bb2",
   "metadata": {},
   "outputs": [
    {
     "name": "stdout",
     "output_type": "stream",
     "text": [
      "Decision Tree Classifier has an accuracy of: 86.66666666666667\n"
     ]
    }
   ],
   "source": [
    "from sklearn.tree import DecisionTreeClassifier\n",
    "DTC = DecisionTreeClassifier()\n",
    "DTC.fit(X_train,y_train)\n",
    "y_pred = DTC.predict(X_test)\n",
    "print('Decision Tree Classifier has an accuracy of:',accuracy_score(y_test,y_pred)*100)"
   ]
  },
  {
   "cell_type": "markdown",
   "id": "0ccc2c9e",
   "metadata": {},
   "source": [
    "All the models have a good accuracy score!"
   ]
  },
  {
   "cell_type": "markdown",
   "id": "08eb5269",
   "metadata": {},
   "source": [
    "## 4. Model Building Using Petal Features"
   ]
  },
  {
   "cell_type": "code",
   "execution_count": 31,
   "id": "7895276d",
   "metadata": {},
   "outputs": [],
   "source": [
    "Xp = df.iloc[:,2:4]\n",
    "Yp = df.iloc[:,-1]\n",
    "Xp_train,Xp_test,yp_train,yp_test = train_test_split(Xp,Yp,test_size=0.3,random_state=0)"
   ]
  },
  {
   "cell_type": "code",
   "execution_count": 32,
   "id": "97c77a5b",
   "metadata": {},
   "outputs": [
    {
     "data": {
      "text/html": [
       "<div>\n",
       "<style scoped>\n",
       "    .dataframe tbody tr th:only-of-type {\n",
       "        vertical-align: middle;\n",
       "    }\n",
       "\n",
       "    .dataframe tbody tr th {\n",
       "        vertical-align: top;\n",
       "    }\n",
       "\n",
       "    .dataframe thead th {\n",
       "        text-align: right;\n",
       "    }\n",
       "</style>\n",
       "<table border=\"1\" class=\"dataframe\">\n",
       "  <thead>\n",
       "    <tr style=\"text-align: right;\">\n",
       "      <th></th>\n",
       "      <th>PetalLengthCm</th>\n",
       "      <th>PetalWidthCm</th>\n",
       "    </tr>\n",
       "  </thead>\n",
       "  <tbody>\n",
       "    <tr>\n",
       "      <th>0</th>\n",
       "      <td>1.4</td>\n",
       "      <td>0.2</td>\n",
       "    </tr>\n",
       "    <tr>\n",
       "      <th>1</th>\n",
       "      <td>1.4</td>\n",
       "      <td>0.2</td>\n",
       "    </tr>\n",
       "    <tr>\n",
       "      <th>2</th>\n",
       "      <td>1.3</td>\n",
       "      <td>0.2</td>\n",
       "    </tr>\n",
       "    <tr>\n",
       "      <th>3</th>\n",
       "      <td>1.5</td>\n",
       "      <td>0.2</td>\n",
       "    </tr>\n",
       "    <tr>\n",
       "      <th>4</th>\n",
       "      <td>1.4</td>\n",
       "      <td>0.2</td>\n",
       "    </tr>\n",
       "  </tbody>\n",
       "</table>\n",
       "</div>"
      ],
      "text/plain": [
       "   PetalLengthCm  PetalWidthCm\n",
       "0            1.4           0.2\n",
       "1            1.4           0.2\n",
       "2            1.3           0.2\n",
       "3            1.5           0.2\n",
       "4            1.4           0.2"
      ]
     },
     "execution_count": 32,
     "metadata": {},
     "output_type": "execute_result"
    }
   ],
   "source": [
    "Xp.head()"
   ]
  },
  {
   "cell_type": "code",
   "execution_count": 33,
   "id": "21e2223b",
   "metadata": {},
   "outputs": [
    {
     "data": {
      "text/plain": [
       "0    Iris-setosa\n",
       "1    Iris-setosa\n",
       "2    Iris-setosa\n",
       "3    Iris-setosa\n",
       "4    Iris-setosa\n",
       "Name: Species, dtype: object"
      ]
     },
     "execution_count": 33,
     "metadata": {},
     "output_type": "execute_result"
    }
   ],
   "source": [
    "Yp.head()"
   ]
  },
  {
   "cell_type": "markdown",
   "id": "11d7a129",
   "metadata": {},
   "source": [
    "### 4.1 Logistic Regression"
   ]
  },
  {
   "cell_type": "code",
   "execution_count": 34,
   "id": "4f31126c",
   "metadata": {},
   "outputs": [
    {
     "name": "stdout",
     "output_type": "stream",
     "text": [
      "Logistic Regression has an accuracy of: 97.77777777777777\n"
     ]
    }
   ],
   "source": [
    "logregp = LogisticRegression()\n",
    "logregp.fit(Xp_train,yp_train)\n",
    "y_pred = logregp.predict(Xp_test)\n",
    "print('Logistic Regression has an accuracy of:',accuracy_score(yp_test,y_pred)*100)"
   ]
  },
  {
   "cell_type": "markdown",
   "id": "21982d6c",
   "metadata": {},
   "source": [
    "### 4.2 K-Nearest Neighbors (KNN)"
   ]
  },
  {
   "cell_type": "code",
   "execution_count": 35,
   "id": "43159776",
   "metadata": {},
   "outputs": [
    {
     "name": "stdout",
     "output_type": "stream",
     "text": [
      "KNN with K=1 has an accuracy of: 97.77777777777777\n"
     ]
    }
   ],
   "source": [
    "#For K=1\n",
    "knn = KNeighborsClassifier(n_neighbors=1)\n",
    "knn.fit(Xp_train,yp_train)\n",
    "y_pred = knn.predict(Xp_test)\n",
    "print('KNN with K=1 has an accuracy of:',accuracy_score(yp_test,y_pred)*100)"
   ]
  },
  {
   "cell_type": "code",
   "execution_count": 36,
   "id": "c678e051",
   "metadata": {},
   "outputs": [
    {
     "name": "stdout",
     "output_type": "stream",
     "text": [
      "KNN with K=3 has an accuracy of: 97.77777777777777\n"
     ]
    }
   ],
   "source": [
    "#For K=3\n",
    "from sklearn.neighbors import KNeighborsClassifier\n",
    "knn = KNeighborsClassifier(n_neighbors=3)\n",
    "knn.fit(Xp_train,yp_train)\n",
    "y_pred = knn.predict(Xp_test)\n",
    "print('KNN with K=3 has an accuracy of:',accuracy_score(yp_test,y_pred)*100)"
   ]
  },
  {
   "cell_type": "code",
   "execution_count": 37,
   "id": "d0d885ce",
   "metadata": {},
   "outputs": [
    {
     "name": "stdout",
     "output_type": "stream",
     "text": [
      "KNN with K=5 has an accuracy of: 97.77777777777777\n"
     ]
    }
   ],
   "source": [
    "#For K=5\n",
    "from sklearn.neighbors import KNeighborsClassifier\n",
    "knn = KNeighborsClassifier(n_neighbors=5)\n",
    "knn.fit(Xp_train,yp_train)\n",
    "y_pred = knn.predict(Xp_test)\n",
    "print('KNN with K=5 has an accuracy of:',accuracy_score(yp_test,y_pred)*100)"
   ]
  },
  {
   "cell_type": "code",
   "execution_count": 38,
   "id": "c13cd980",
   "metadata": {},
   "outputs": [
    {
     "data": {
      "text/plain": [
       "Text(0, 0.5, 'Accuracy Score')"
      ]
     },
     "execution_count": 38,
     "metadata": {},
     "output_type": "execute_result"
    },
    {
     "data": {
      "image/png": "[encoded data removed]",
      "text/plain": [
       "<Figure size 720x432 with 1 Axes>"
      ]
     },
     "metadata": {
      "needs_background": "light"
     },
     "output_type": "display_data"
    }
   ],
   "source": [
    "#Let's try and select the best K-value\n",
    "acc_score = []\n",
    "\n",
    "for i in range(1,11):\n",
    "    knn = KNeighborsClassifier(n_neighbors=i)\n",
    "    knn.fit(Xp_train,yp_train)\n",
    "    pred_i = knn.predict(Xp_test)\n",
    "    acc_score.append(np.mean(accuracy_score(yp_test,pred_i)))\n",
    "\n",
    "plt.figure(figsize=(10,6))\n",
    "plt.plot(range(1,11),acc_score,color='blue',linestyle='dashed',marker='o',markersize=10)\n",
    "plt.title('Error Rate Vs K-value')\n",
    "plt.xlabel('K')\n",
    "plt.ylabel('Accuracy Score')"
   ]
  },
  {
   "cell_type": "markdown",
   "id": "db1e60b6",
   "metadata": {},
   "source": [
    "### 4.3 Support Vector Machine (SVM)"
   ]
  },
  {
   "cell_type": "code",
   "execution_count": 39,
   "id": "f51607d6",
   "metadata": {},
   "outputs": [
    {
     "name": "stdout",
     "output_type": "stream",
     "text": [
      "SVM has an accuracy of: 97.77777777777777\n"
     ]
    }
   ],
   "source": [
    "model = SVC()\n",
    "model.fit(Xp_train,yp_train)\n",
    "y_pred = model.predict(Xp_test)\n",
    "print('SVM has an accuracy of:',accuracy_score(yp_test,y_pred)*100)"
   ]
  },
  {
   "cell_type": "markdown",
   "id": "c7e30660",
   "metadata": {},
   "source": [
    "### 4.4 Decision Tree"
   ]
  },
  {
   "cell_type": "code",
   "execution_count": 40,
   "id": "317d0b6b",
   "metadata": {},
   "outputs": [
    {
     "name": "stdout",
     "output_type": "stream",
     "text": [
      "Decision Tree Classifier has an accuracy of: 95.55555555555556\n"
     ]
    }
   ],
   "source": [
    "DTC = DecisionTreeClassifier()\n",
    "DTC.fit(Xp_train,yp_train)\n",
    "y_pred = DTC.predict(Xp_test)\n",
    "print('Decision Tree Classifier has an accuracy of:',accuracy_score(yp_test,y_pred)*100)"
   ]
  },
  {
   "cell_type": "markdown",
   "id": "f23a67b3",
   "metadata": {},
   "source": [
    "### 5. Model Building Using Sepal Features"
   ]
  },
  {
   "cell_type": "code",
   "execution_count": 41,
   "id": "27dcf418",
   "metadata": {},
   "outputs": [],
   "source": [
    "Xs = df.iloc[:,0:2]\n",
    "Ys = df.iloc[:,-1]\n",
    "Xs_train,Xs_test,ys_train,ys_test = train_test_split(Xs,Ys,test_size=0.3,random_state=0)"
   ]
  },
  {
   "cell_type": "code",
   "execution_count": 42,
   "id": "823aab53",
   "metadata": {},
   "outputs": [
    {
     "data": {
      "text/html": [
       "<div>\n",
       "<style scoped>\n",
       "    .dataframe tbody tr th:only-of-type {\n",
       "        vertical-align: middle;\n",
       "    }\n",
       "\n",
       "    .dataframe tbody tr th {\n",
       "        vertical-align: top;\n",
       "    }\n",
       "\n",
       "    .dataframe thead th {\n",
       "        text-align: right;\n",
       "    }\n",
       "</style>\n",
       "<table border=\"1\" class=\"dataframe\">\n",
       "  <thead>\n",
       "    <tr style=\"text-align: right;\">\n",
       "      <th></th>\n",
       "      <th>SepalLengthCm</th>\n",
       "      <th>SepalWidthCm</th>\n",
       "    </tr>\n",
       "  </thead>\n",
       "  <tbody>\n",
       "    <tr>\n",
       "      <th>0</th>\n",
       "      <td>5.1</td>\n",
       "      <td>3.5</td>\n",
       "    </tr>\n",
       "    <tr>\n",
       "      <th>1</th>\n",
       "      <td>4.9</td>\n",
       "      <td>3.0</td>\n",
       "    </tr>\n",
       "    <tr>\n",
       "      <th>2</th>\n",
       "      <td>4.7</td>\n",
       "      <td>3.2</td>\n",
       "    </tr>\n",
       "    <tr>\n",
       "      <th>3</th>\n",
       "      <td>4.6</td>\n",
       "      <td>3.1</td>\n",
       "    </tr>\n",
       "    <tr>\n",
       "      <th>4</th>\n",
       "      <td>5.0</td>\n",
       "      <td>3.6</td>\n",
       "    </tr>\n",
       "  </tbody>\n",
       "</table>\n",
       "</div>"
      ],
      "text/plain": [
       "   SepalLengthCm  SepalWidthCm\n",
       "0            5.1           3.5\n",
       "1            4.9           3.0\n",
       "2            4.7           3.2\n",
       "3            4.6           3.1\n",
       "4            5.0           3.6"
      ]
     },
     "execution_count": 42,
     "metadata": {},
     "output_type": "execute_result"
    }
   ],
   "source": [
    "Xs.head()"
   ]
  },
  {
   "cell_type": "code",
   "execution_count": 43,
   "id": "be52017b",
   "metadata": {},
   "outputs": [
    {
     "data": {
      "text/plain": [
       "0    Iris-setosa\n",
       "1    Iris-setosa\n",
       "2    Iris-setosa\n",
       "3    Iris-setosa\n",
       "4    Iris-setosa\n",
       "Name: Species, dtype: object"
      ]
     },
     "execution_count": 43,
     "metadata": {},
     "output_type": "execute_result"
    }
   ],
   "source": [
    "Ys.head()"
   ]
  },
  {
   "cell_type": "markdown",
   "id": "73e82bc4",
   "metadata": {},
   "source": [
    "### 5.1 Logistic Regression"
   ]
  },
  {
   "cell_type": "code",
   "execution_count": 44,
   "id": "98af5120",
   "metadata": {},
   "outputs": [
    {
     "name": "stdout",
     "output_type": "stream",
     "text": [
      "Logistic Regression has an accuracy of: 82.22222222222221\n"
     ]
    }
   ],
   "source": [
    "logregs = LogisticRegression()\n",
    "logregs.fit(Xs_train,ys_train)\n",
    "y_pred = logregs.predict(Xs_test)\n",
    "print('Logistic Regression has an accuracy of:',accuracy_score(ys_test,y_pred)*100)"
   ]
  },
  {
   "cell_type": "markdown",
   "id": "70630001",
   "metadata": {},
   "source": [
    "### 5.2 K-Nearest Neighbors"
   ]
  },
  {
   "cell_type": "code",
   "execution_count": 45,
   "id": "51535057",
   "metadata": {},
   "outputs": [
    {
     "name": "stdout",
     "output_type": "stream",
     "text": [
      "KNN with K=1 has an accuracy of: 66.66666666666666\n"
     ]
    }
   ],
   "source": [
    "#For K=1\n",
    "knn = KNeighborsClassifier(n_neighbors=1)\n",
    "knn.fit(Xs_train,ys_train)\n",
    "y_pred = knn.predict(Xs_test)\n",
    "print('KNN with K=1 has an accuracy of:',accuracy_score(ys_test,y_pred)*100)"
   ]
  },
  {
   "cell_type": "code",
   "execution_count": 46,
   "id": "f0810782",
   "metadata": {},
   "outputs": [
    {
     "name": "stdout",
     "output_type": "stream",
     "text": [
      "KNN with K=3 has an accuracy of: 73.33333333333333\n"
     ]
    }
   ],
   "source": [
    "#For K=3\n",
    "knn = KNeighborsClassifier(n_neighbors=3)\n",
    "knn.fit(Xs_train,ys_train)\n",
    "y_pred = knn.predict(Xs_test)\n",
    "print('KNN with K=3 has an accuracy of:',accuracy_score(ys_test,y_pred)*100)"
   ]
  },
  {
   "cell_type": "code",
   "execution_count": 47,
   "id": "f1b4aede",
   "metadata": {},
   "outputs": [
    {
     "name": "stdout",
     "output_type": "stream",
     "text": [
      "KNN with K=5 has an accuracy of: 73.33333333333333\n"
     ]
    }
   ],
   "source": [
    "#For K=5\n",
    "knn = KNeighborsClassifier(n_neighbors=5)\n",
    "knn.fit(Xs_train,ys_train)\n",
    "y_pred = knn.predict(Xs_test)\n",
    "print('KNN with K=5 has an accuracy of:',accuracy_score(ys_test,y_pred)*100)"
   ]
  },
  {
   "cell_type": "code",
   "execution_count": 48,
   "id": "efda2fbb",
   "metadata": {},
   "outputs": [
    {
     "data": {
      "text/plain": [
       "Text(0, 0.5, 'Accuracy Score')"
      ]
     },
     "execution_count": 48,
     "metadata": {},
     "output_type": "execute_result"
    },
    {
     "data": {
      "image/png": "[encoded data removed]",
      "text/plain": [
       "<Figure size 720x432 with 1 Axes>"
      ]
     },
     "metadata": {
      "needs_background": "light"
     },
     "output_type": "display_data"
    }
   ],
   "source": [
    "#Let's try and select the best K-value\n",
    "acc_score = []\n",
    "\n",
    "for i in range(1,11):\n",
    "    knn = KNeighborsClassifier(n_neighbors=i)\n",
    "    knn.fit(Xs_train,ys_train)\n",
    "    pred_i = knn.predict(Xs_test)\n",
    "    acc_score.append(np.mean(accuracy_score(ys_test,pred_i)))\n",
    "\n",
    "plt.figure(figsize=(10,6))\n",
    "plt.plot(range(1,11),acc_score,color='blue',linestyle='dashed',marker='o',markersize=10)\n",
    "plt.title('Error Rate Vs K-value')\n",
    "plt.xlabel('K')\n",
    "plt.ylabel('Accuracy Score')"
   ]
  },
  {
   "cell_type": "markdown",
   "id": "e1b8e4c8",
   "metadata": {},
   "source": [
    "### 5.3 Support Vector Machines (SVM)"
   ]
  },
  {
   "cell_type": "code",
   "execution_count": 49,
   "id": "3ff8ac01",
   "metadata": {},
   "outputs": [
    {
     "name": "stdout",
     "output_type": "stream",
     "text": [
      "SVM has an accuracy of: 80.0\n"
     ]
    }
   ],
   "source": [
    "model = SVC()\n",
    "model.fit(Xs_train,ys_train)\n",
    "y_pred = model.predict(Xs_test)\n",
    "print('SVM has an accuracy of:',accuracy_score(ys_test,y_pred)*100)"
   ]
  },
  {
   "cell_type": "markdown",
   "id": "7c233ac6",
   "metadata": {},
   "source": [
    "### 5.4 Decision Tree"
   ]
  },
  {
   "cell_type": "code",
   "execution_count": 50,
   "id": "9a249ff0",
   "metadata": {},
   "outputs": [
    {
     "name": "stdout",
     "output_type": "stream",
     "text": [
      "Decision Tree Classifier has an accuracy of: 64.44444444444444\n"
     ]
    }
   ],
   "source": [
    "DTC = DecisionTreeClassifier()\n",
    "DTC.fit(Xs_train,ys_train)\n",
    "y_pred = DTC.predict(Xs_test)\n",
    "print('Decision Tree Classifier has an accuracy of:',accuracy_score(ys_test,y_pred)*100)"
   ]
  },
  {
   "cell_type": "markdown",
   "id": "303553df",
   "metadata": {},
   "source": [
    "**Observations:** As expected, we can see that model having sepal features are better at predicting the results than sepal features. We'll use Logistic Regression model for deployment!"
   ]
  },
  {
   "cell_type": "markdown",
   "id": "306caec3",
   "metadata": {},
   "source": [
    "## 6. Pickle File"
   ]
  },
  {
   "cell_type": "code",
   "execution_count": 52,
   "id": "0ea9c2a5",
   "metadata": {},
   "outputs": [],
   "source": [
    "#Write to disk to use it any number of times\n",
    "import pickle\n",
    "file = open('iris.pkl','wb')\n",
    "pickle.dump(logregp,file)\n",
    "loaded_model = pickle.load(open('iris.pkl','rb'))"
   ]
  },
  {
   "cell_type": "code",
   "execution_count": 53,
   "id": "fae5f186",
   "metadata": {},
   "outputs": [],
   "source": [
    "final_pred = loaded_model.predict(Xp_test)"
   ]
  },
  {
   "cell_type": "code",
   "execution_count": 54,
   "id": "ff31889a",
   "metadata": {},
   "outputs": [
    {
     "name": "stdout",
     "output_type": "stream",
     "text": [
      "Our Final model has an accuracy of: 97.77777777777777\n"
     ]
    }
   ],
   "source": [
    "print('Our Final model has an accuracy of:',accuracy_score(yp_test,final_pred)*100)"
   ]
  }
 ],
 "metadata": {
  "kernelspec": {
   "display_name": "Python 3",
   "language": "python",
   "name": "python3"
  },
  "language_info": {
   "codemirror_mode": {
    "name": "ipython",
    "version": 3
   },
   "file_extension": ".py",
   "mimetype": "text/x-python",
   "name": "python",
   "nbconvert_exporter": "python",
   "pygments_lexer": "ipython3",
   "version": "3.8.10"
  }
 },
 "nbformat": 4,
 "nbformat_minor": 5
}
